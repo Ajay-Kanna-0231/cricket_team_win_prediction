{
 "cells": [
  {
   "cell_type": "code",
   "execution_count": null,
   "metadata": {},
   "outputs": [],
   "source": [
    "import pandas as pd\n",
    "data = pd.read_csv(\"cricket_data.csv\")\n",
    "print(data.columns)\n",
    "for i in range(len(data[\"NAME\"])):\n",
    "    if data[\"NAME\"][i] == \"Sachin Tendulkar\":\n",
    "        print(data[\"ID\"][i])"
   ]
  },
  {
   "cell_type": "code",
   "execution_count": 3,
   "metadata": {},
   "outputs": [
    {
     "name": "stderr",
     "output_type": "stream",
     "text": [
      "C:\\Users\\Ajay Kanna\\AppData\\Local\\Temp\\ipykernel_23028\\111248065.py:2: DtypeWarning: Columns (0,9,16,20,21,22,24,25,26,27,28,29,30,31,32,45,46,59,60,73,74,87,88,89,90,91,92,95,96,97,98,99,100,101,102) have mixed types. Specify dtype option on import or set low_memory=False.\n",
      "  data = pd.read_csv(\"cricket_data.csv\")\n"
     ]
    },
    {
     "name": "stdout",
     "output_type": "stream",
     "text": [
      "Index(['ID', 'NAME', 'COUNTRY', 'Full name', 'Born', 'Died', 'Current age',\n",
      "       'Major teams', 'Education', 'Height',\n",
      "       ...\n",
      "       'BOWLING_T20s_Runs', 'BOWLING_T20s_Wkts', 'BOWLING_T20s_BBI',\n",
      "       'BOWLING_T20s_BBM', 'BOWLING_T20s_Ave', 'BOWLING_T20s_Econ',\n",
      "       'BOWLING_T20s_SR', 'BOWLING_T20s_4w', 'BOWLING_T20s_5w',\n",
      "       'BOWLING_T20s_10'],\n",
      "      dtype='object', length=181)\n",
      "ID                   object\n",
      "NAME                 object\n",
      "COUNTRY              object\n",
      "Full name            object\n",
      "Born                 object\n",
      "                      ...  \n",
      "BOWLING_T20s_Econ    object\n",
      "BOWLING_T20s_SR      object\n",
      "BOWLING_T20s_4w      object\n",
      "BOWLING_T20s_5w      object\n",
      "BOWLING_T20s_10      object\n",
      "Length: 181, dtype: object\n"
     ]
    }
   ],
   "source": [
    "import pandas as pd\n",
    "data = pd.read_csv(\"cricket_data.csv\")\n",
    "pd.set_option('display.max_columns', None)\n",
    "print(data.columns)\n",
    "print(data.dtypes)"
   ]
  },
  {
   "cell_type": "code",
   "execution_count": null,
   "metadata": {},
   "outputs": [],
   "source": [
    "import pandas as pd\n",
    "\n",
    "# Load your dataset\n",
    "data = pd.read_csv(r\"C:\\Users\\Ajay Kanna\\Desktop\\all projects web dev\\cricket_team_win_prediction\\cricket_data.csv\")\n",
    "\n",
    "# Define the columns to check for non-null values\n",
    "bowling_columns = [\n",
    "    'BOWLING_ODIs_Mat', 'BOWLING_ODIs_Inns', 'BOWLING_ODIs_Balls',\n",
    "    'BOWLING_ODIs_Runs', 'BOWLING_ODIs_Wkts', 'BOWLING_ODIs_BBI',\n",
    "    'BOWLING_ODIs_BBM', 'BOWLING_ODIs_Ave', 'BOWLING_ODIs_Econ',\n",
    "    'BOWLING_ODIs_SR', 'BOWLING_ODIs_4w', 'BOWLING_ODIs_5w', \n",
    "    'BOWLING_ODIs_10'\n",
    "]\n",
    "batting_columns = [\n",
    "    'BATTING_ODIs_Mat', 'BATTING_ODIs_Inns', 'BATTING_ODIs_NO',\n",
    "    'BATTING_ODIs_Runs', 'BATTING_ODIs_HS', 'BATTING_ODIs_Ave',\n",
    "    'BATTING_ODIs_BF', 'BATTING_ODIs_SR', 'BATTING_ODIs_100',\n",
    "    'BATTING_ODIs_50', 'BATTING_ODIs_4s', 'BATTING_ODIs_6s',\n",
    "    'BATTING_ODIs_Ct', 'BATTING_ODIs_St'\n",
    "]\n",
    "all_columns = bowling_columns + batting_columns\n",
    "\n",
    "# Filter out rows with any null values in the specified columns\n",
    "filtered_data = data.dropna(subset=all_columns)\n",
    "\n",
    "# Drop rows where 'Playing role' is null or empty\n",
    "filtered_data = filtered_data[filtered_data['Playing role'].notnull() & (filtered_data['Playing role'] != '')]\n",
    "\n",
    "# Save the filtered data to a new CSV file if needed\n",
    "filtered_data.to_csv(r\"C:\\Users\\Ajay Kanna\\Desktop\\all projects web dev\\cricket_team_win_prediction\\filtered_cricket_data.csv\", index=False)\n",
    "\n",
    "print(filtered_data)\n"
   ]
  },
  {
   "cell_type": "code",
   "execution_count": null,
   "metadata": {},
   "outputs": [],
   "source": [
    "columns_to_keep = [\n",
    "    'BOWLING_ODIs_Mat', 'BOWLING_ODIs_Balls', 'BOWLING_ODIs_Runs', 'BOWLING_ODIs_Wkts', \n",
    "    'BOWLING_ODIs_Ave', 'BOWLING_ODIs_Econ', 'BOWLING_ODIs_SR', 'BOWLING_ODIs_4w', 'BOWLING_ODIs_5w', \n",
    "    'BATTING_ODIs_Mat', 'BATTING_ODIs_NO', \n",
    "    'BATTING_ODIs_Runs', 'BATTING_ODIs_HS', 'BATTING_ODIs_Ave', 'BATTING_ODIs_BF', \n",
    "    'BATTING_ODIs_SR', 'BATTING_ODIs_100', 'BATTING_ODIs_50', 'BATTING_ODIs_4s', \n",
    "    'BATTING_ODIs_6s', 'BATTING_ODIs_Ct', 'BATTING_ODIs_St', 'Playing role', 'NAME', \n",
    "    'COUNTRY', 'ID'\n",
    "]\n",
    "filtered_data = filtered_data[columns_to_keep]\n",
    "filtered_data.to_csv(r\"C:\\Users\\Ajay Kanna\\Desktop\\all projects web dev\\cricket_team_win_prediction\\data_base.csv\", index=False)\n"
   ]
  },
  {
   "cell_type": "code",
   "execution_count": null,
   "metadata": {},
   "outputs": [],
   "source": [
    "Bowling (ODIs)\n",
    "BOWLING_ODIs_Mat: Number of matches played.\n",
    "BOWLING_ODIs_Inns: Number of innings bowled.\n",
    "BOWLING_ODIs_Balls: Number of balls bowled.\n",
    "BOWLING_ODIs_Runs: Runs conceded.\n",
    "BOWLING_ODIs_Wkts: Wickets taken.\n",
    "BOWLING_ODIs_BBI: Best bowling figures in an innings.\n",
    "BOWLING_ODIs_BBM: Best bowling figures in a match.\n",
    "BOWLING_ODIs_Ave: Bowling average (runs per wicket).\n",
    "BOWLING_ODIs_Econ: Economy rate (runs per over).\n",
    "BOWLING_ODIs_SR: Strike rate (balls per wicket).\n",
    "BOWLING_ODIs_4w: Number of 4-wicket hauls.\n",
    "BOWLING_ODIs_5w: Number of 5-wicket hauls.\n",
    "BOWLING_ODIs_10A: Number of 10-wicket hauls (if applicable).\n",
    "Batting (ODIs)\n",
    "BATTING_ODIs_Mat: Number of matches played.\n",
    "BATTING_ODIs_Inns: Number of innings batted.\n",
    "BATTING_ODIs_NO: Not outs.\n",
    "BATTING_ODIs_Runs: Runs scored.\n",
    "BATTING_ODIs_HS: Highest score.\n",
    "BATTING_ODIs_Ave: Batting average (runs per innings).\n",
    "BATTING_ODIs_BF: Balls faced.\n",
    "BATTING_ODIs_SR: Strike rate (runs per 100 balls).\n",
    "BATTING_ODIs_100: Centuries scored.\n",
    "BATTING_ODIs_50: Half-centuries scored.\n",
    "BATTING_ODIs_4s: Fours hit.\n",
    "BATTING_ODIs_6s: Sixes hit.\n",
    "BATTING_ODIs_Ct: Catches.\n",
    "BATTING_ODIs_St: Stumpings.\n",
    "General Information\n",
    "Playing role: The player's role or specialty (e.g., batsman, bowler, all-rounder).\n",
    "NAME: Player’s name.\n",
    "COUNTRY: Player’s country of representation."
   ]
  }
 ],
 "metadata": {
  "kernelspec": {
   "display_name": "myenv",
   "language": "python",
   "name": "python3"
  },
  "language_info": {
   "codemirror_mode": {
    "name": "ipython",
    "version": 3
   },
   "file_extension": ".py",
   "mimetype": "text/x-python",
   "name": "python",
   "nbconvert_exporter": "python",
   "pygments_lexer": "ipython3",
   "version": "3.12.1"
  }
 },
 "nbformat": 4,
 "nbformat_minor": 2
}
